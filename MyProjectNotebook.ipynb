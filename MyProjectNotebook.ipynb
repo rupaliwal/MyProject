{
 "cells": [
  {
   "cell_type": "markdown",
   "metadata": {},
   "source": [
    "# COGS 18 FINAL PROJECT\n",
    "## Rupal Paliwal (A13778571)"
   ]
  },
  {
   "cell_type": "markdown",
   "metadata": {},
   "source": [
    "The entire project is divided into two sections. The Part One is the Pet Name Generator and the Part Two is the Tkinter for a Random Pet Name Generator. However, they are a little different.\n",
    "1. Part One: The input is first asked to put in the type of the pet they have. They can choose between dog, cat and fish. Then, they are asked to input the color of that pet. Based on both the inputs, the computer will generate a random name for their pet. This uses the input() command.\n",
    "2. Part Two: Since I am new to tkinter and I had to learn it by myself, I couldn't completely make a Part One of in tkinter. For that, the user needs to run it in ANACONDA Qt Console. The user can input a color in the entry box and then click the button so that computer can generate a random name for the pet based on the color of the pet. "
   ]
  },
  {
   "cell_type": "markdown",
   "metadata": {},
   "source": [
    "#   Part 1:  Pet Name Generator - input()"
   ]
  },
  {
   "cell_type": "markdown",
   "metadata": {},
   "source": [
    "This is a PET NAME GENERATOR that takes the input from the user. The user chooses the type of pet they have and then they choose the color. Based on both the criteria, a random name is chosen!!\n",
    "Currently, this is limited to dogs, cats and fish names alongwith nine colors."
   ]
  },
  {
   "cell_type": "code",
   "execution_count": 1,
   "metadata": {},
   "outputs": [],
   "source": [
    "from my_module.functions import *"
   ]
  },
  {
   "cell_type": "code",
   "execution_count": 2,
   "metadata": {},
   "outputs": [],
   "source": [
    "def generate_name(): \n",
    "    \n",
    "    chat = True\n",
    "    while chat:\n",
    "        \n",
    "        #Get the input for animal type!\n",
    "        type_animal = input('Type of Pet:\\t')\n",
    "    \n",
    "        if animal_type(type_animal) == True:\n",
    "            print(\"Cute!!\")\n",
    "        else:\n",
    "            print(\"Invalid Input! Please choose between dog, cat or fish!\")\n",
    "            type_animal = input('Type of Pet:\\t')\n",
    "        \n",
    "        #Get the input for animal color!\n",
    "        if animal_type(type_animal) == True:\n",
    "            col_animal = input('Color of Pet:\\t')\n",
    "        \n",
    "            #Prepare output!\n",
    "            if animal_col(col_animal) == True:\n",
    "                \n",
    "                if type_animal in [\"Dog\",\"dog\"]:\n",
    "                    for_dog = check_dog(type_animal, col_animal)\n",
    "                elif type_animal in [\"Cat\",\"cat\"]:\n",
    "                    for_cat = check_cat(type_animal, col_animal)\n",
    "                elif type_animal in [\"Fish\", \"fish\"]:\n",
    "                    for_fish = check_fish(type_animal, col_animal)\n",
    "        \n",
    "            else:\n",
    "                type_animal = input('Color of Pet:\\t')"
   ]
  },
  {
   "cell_type": "code",
   "execution_count": null,
   "metadata": {},
   "outputs": [],
   "source": [
    "# Random Name Generator!! The name will be based on the type and color of pet! \n",
    "# Run it and ENJOY!\n",
    "generate_name()"
   ]
  },
  {
   "cell_type": "markdown",
   "metadata": {},
   "source": [
    "# Part 2: Pet Name Generator - Tkinter (Works on Anaconda Qt Console)\n",
    "### Just a Random Name Generator (only based off of color of the pet)"
   ]
  },
  {
   "cell_type": "markdown",
   "metadata": {},
   "source": [
    "Once this is run in Anaconda Qt Console, the user inputs the color of the pet (restricted to nine colors) and then the computer will generate a random name based of JUST the color of the pet."
   ]
  },
  {
   "cell_type": "markdown",
   "metadata": {},
   "source": [
    "**Citation:** Significantly Modified Code for: canvas, frame, entry, lower_frame, button and label\n",
    "\n",
    "Source: https://www.youtube.com/watch?v=D8-snVfekto"
   ]
  },
  {
   "cell_type": "code",
   "execution_count": null,
   "metadata": {},
   "outputs": [],
   "source": [
    "# tkinter FUNCTION! - Just a random name generator. \n",
    "# Put in the color of the pet for the result! Enjoy!\n",
    "# ANACONDA QT CONSOLE!!\n",
    "import random\n",
    "import tkinter as tk\n",
    "\n",
    "root = tk.Tk()\n",
    "\n",
    "\n",
    "black_name = [\"Shadow\", \"Pepper\", \"Smokey\", 'Midnight', 'Inky', 'Sesame','Ash', \n",
    "              'Bean','Bear', 'Black Beauty', 'BlackBerry', 'Cola', 'Boba']\n",
    "brown_name = ['Mocha', 'Snickers', 'Teddy',\"Truffles\", \"Woody\",\"Whiskey\", \n",
    "              \"Chai\", \"Cinnamon\", 'Coco','Cookie','Honey','Chestnut','Acorn','Brownie']\n",
    "gray_name = ['Stormy','Astra', 'Ash','Coal','Dusty','Earl Gray','Stone',\n",
    "             'Stoney','Rocky','Comet','Dusty','Moon','Pebbles','Silvy','Thunder']\n",
    "white_name = ['Cloud','Diamond','Icy','Misty', 'Iris','Cotton','Coconut',\n",
    "              'Dove','Milky', 'Angel','Casper', 'Lily','Ivory','Marshmallow','Vanilla']\n",
    "red_name = ['Autumn','Apple', 'Rusty','Brick','Copper','Scarlet','Rose',\n",
    "            'Cherry','Rose','Crimson','Scarlett',\"Ruby\",\"Paprika\", \"Chili\"]\n",
    "blue_name = ['Navy','Blueberry','Azure','Sky','Teal','Winter', 'Bay',\n",
    "             \"Bluebell\",\"Aqua\",\"Blueberry\",\"Celestial\", \"Bubbles\",\"Blue Star\"]\n",
    "yellow_name = ['Lemon','Sunshine','Popcorn','Butter','Poppy','Nugget',\n",
    "               'Summer','Buttercup', \"Banana\", 'Winnie',\"Daisy\",\"Sunflower\",\"Honey\"]\n",
    "orange_name = ['Fire','Apricot','Cheddar','Clementine','Maple','Pumpkin',\n",
    "               'Tiger','Dorito','Saffron',\"Cheeto\",\"Simba\", \"Ed Sheeran\",\"Sweet Potato\", \"Fanta\"]\n",
    "gold_name = ['Butter','Goldie','Butterscotch','Corona','Sandy','Caramel', \n",
    "             \"Coin\",'Goldie','Canoli','Precious',\"Richie Rich\",\"Nugget\", \"Flame\"]\n",
    "\n",
    "def generate_name(): \n",
    "    \n",
    "    input_string = entry.get()\n",
    "    \n",
    "    if input_string in ['Black','black']:\n",
    "        msg = random.choice(black_name)\n",
    "        label[\"text\"] = \"A possible name could be \"+ msg\n",
    "    elif input_string in [\"Brown\",\"brown\"]:\n",
    "        msg = random.choice(brown_name)\n",
    "        label[\"text\"] = \"A possible name could be \"+ msg\n",
    "    elif input_string in [\"Gray\",\"gray\"]:\n",
    "        msg = random.choice(gray_name)\n",
    "        label[\"text\"] = \"A possible name could be \"+ msg\n",
    "    elif input_string in [\"White\",\"white\"]:\n",
    "        msg = random.choice(white_name)\n",
    "        label[\"text\"] = \"A possible name could be \"+ msg\n",
    "    elif input_string in [\"Red\",\"red\"]:\n",
    "        msg = random.choice(red_name)\n",
    "        label[\"text\"] = \"A possible name could be \"+ msg\n",
    "    elif input_string in [\"Blue\",\"blue\"]:\n",
    "        msg = random.choice(blue_name)\n",
    "        label[\"text\"] = \"A possible name could be \"+ msg\n",
    "    elif input_string in [\"Yellow\",\"yellow\"]:\n",
    "        msg = random.choice(yellow_name)\n",
    "        label[\"text\"] = \"A possible name could be \"+ msg\n",
    "    elif input_string in [\"Orange\",\"orange\"]:\n",
    "        msg = random.choice(orange_name)\n",
    "        label[\"text\"] = \"A possible name could be \"+ msg\n",
    "    elif input_string in [\"Gold\",\"gold\"]:\n",
    "        msg = random.choice(gold_name)\n",
    "        label[\"text\"] = \"A possible name could be \"+ msg\n",
    "    else:\n",
    "        label[\"text\"] = \"Please choose between black, brown, gray, white, red, blue, yellow, orange, or gold!\"\n",
    "        \n",
    "        \n",
    "canvas = tk.Canvas(root, height=1000, width=1400, bg =\"peach puff\")\n",
    "canvas.pack()\n",
    "\n",
    "frame = tk.Frame(root, bg='chocolate1', bd=15)\n",
    "frame.place(relx=0.5, rely=0.1, relwidth=0.75, relheight=0.1, anchor='n')\n",
    "\n",
    "head = tk.Label(root, text=\"Input the color of your pet!\", fg= 'black', font='Verdana 25 bold', justify=tk.CENTER)\n",
    "head.place(relx= 0.5, rely = 0.05, anchor ='center')\n",
    "\n",
    "entry = tk.Entry(frame, font=40)\n",
    "entry.place(relwidth=0.65, relheight=1)\n",
    "\n",
    "button = tk.Button(frame, text=\"Get Name\", font=40, command= generate_name)\n",
    "button.place(relx=0.7, relheight=1, relwidth=0.3)\n",
    "\n",
    "lower_frame = tk.Frame(root, bg='navy', bd=20)\n",
    "lower_frame.place(relx=0.5, rely=0.25, relwidth=0.75, relheight=0.6, anchor='n')\n",
    "\n",
    "label = tk.Label(lower_frame)\n",
    "label.place(relwidth=1, relheight=1)\n",
    "\n",
    "\n",
    "root.mainloop()"
   ]
  }
 ],
 "metadata": {
  "kernelspec": {
   "display_name": "Python 3",
   "language": "python",
   "name": "python3"
  },
  "language_info": {
   "codemirror_mode": {
    "name": "ipython",
    "version": 3
   },
   "file_extension": ".py",
   "mimetype": "text/x-python",
   "name": "python",
   "nbconvert_exporter": "python",
   "pygments_lexer": "ipython3",
   "version": "3.7.6"
  }
 },
 "nbformat": 4,
 "nbformat_minor": 2
}
